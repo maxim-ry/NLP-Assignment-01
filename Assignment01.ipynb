{
 "cells": [
  {
   "cell_type": "markdown",
   "metadata": {},
   "source": [
    "# Assignment 01: [creative title name]\n",
    "\n",
    "### Maxim Ryabinov (U02204083)\n",
    "### CAP4641: Natural Language Processing \n",
    "### Instructor: Dr. Ankur Mali \n",
    "### University of South Florida (Spring 2025)\n",
    "\n",
    "---\n",
    "\n",
    "# Intro"
   ]
  },
  {
   "cell_type": "code",
   "execution_count": null,
   "metadata": {},
   "outputs": [],
   "source": [
    "### HI"
   ]
  }
 ],
 "metadata": {
  "language_info": {
   "name": "python"
  }
 },
 "nbformat": 4,
 "nbformat_minor": 2
}
